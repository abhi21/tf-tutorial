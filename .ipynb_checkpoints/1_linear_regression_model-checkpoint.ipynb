{
 "cells": [
  {
   "cell_type": "markdown",
   "metadata": {},
   "source": [
    "Use shift-enter to execute a code block and move to the next one."
   ]
  },
  {
   "cell_type": "code",
   "execution_count": 2,
   "metadata": {},
   "outputs": [
    {
     "name": "stderr",
     "output_type": "stream",
     "text": [
      "/Users/abhisheksharma/anaconda/envs/tensorflow/lib/python2.7/site-packages/matplotlib/font_manager.py:273: UserWarning: Matplotlib is building the font cache using fc-list. This may take a moment.\n",
      "  warnings.warn('Matplotlib is building the font cache using fc-list. This may take a moment.')\n"
     ]
    }
   ],
   "source": [
    "# 1.1 Import tensorflow and other libraries.\n",
    "import tensorflow as tf\n",
    "import numpy as np\n",
    "\n",
    "%matplotlib inline\n",
    "import pylab"
   ]
  },
  {
   "cell_type": "code",
   "execution_count": null,
   "metadata": {},
   "outputs": [],
   "source": [
    "##Constants:\n",
    "\n",
    "# a = tf.constant([2, 2], name='a')\n",
    "# b = tf.constant([[0, 1], [2, 3]], name='b')\n",
    "# x = tf.multiply(a, b, name='mul')\n",
    "# with tf.Session() as sess:\n",
    "# print(sess.run(x))\n",
    "\n",
    "##pre filled\n",
    "\n",
    "# tf.fill([2, 3], 8) \n",
    "# tf.zeros([2, 3], tf.int32) ==> [[0, 0, 0], [0, 0, 0]]\n",
    "\n",
    "##as sequences\n",
    "# tf.range(start, limit=None, delta=1, dtype=None, name='range')\n",
    "# tf.range(3, 18, 3)\n"
   ]
  },
  {
   "cell_type": "code",
   "execution_count": null,
   "metadata": {},
   "outputs": [],
   "source": [
    "## Cons:\n",
    "# my_const = tf.constant([1.0, 2.0], name=\"my_const\")\n",
    "# with tf.Session() as sess:\n",
    "# print(sess.graph.as_graph_def())\n",
    "\n",
    "## Constants are stored in graph definitions :\n",
    "##       - This makes loading graphs expensive when constants are big\n",
    "##       - Only use constants for primitive types.\n",
    "##       - Use variables or readers for more data that requires more memory\n"
   ]
  },
  {
   "cell_type": "code",
   "execution_count": null,
   "metadata": {},
   "outputs": [],
   "source": [
    "## TF vs Numpy\n",
    "## TensorFlow integrates seamlessly with NumPy\n",
    "\n",
    "# tf.int32 == np.int32 \n",
    "## Can pass numpy types to TensorFlow ops\n",
    "# tf.ones([2, 2], np.float32) # ⇒ [[1.0 1.0], [1.0 1.0]]"
   ]
  },
  {
   "cell_type": "code",
   "execution_count": null,
   "metadata": {},
   "outputs": [],
   "source": [
    "## Variables:\n",
    "\n",
    "## create variables with tf.Variable\n",
    "#s = tf.Variable(2, name=\"scalar\")\n",
    "#W = tf.Variable(tf.zeros([784,10]))\n",
    "\n",
    "## create variables with tf.get_variable\n",
    "#s = tf.get_variable(\"scalar\", initializer=tf.constant(2))\n",
    "#W = tf.get_variable(\"big_matrix\", shape=(784, 10), initializer=tf.zeros_initializer())\n",
    "\n",
    "## Initialize Variables:\n",
    "# with tf.Session() as sess:\n",
    "# sess.run(tf.global_variables_initializer()) # initialize all variables\n",
    "# sess.run(tf.variables_initializer([a, b])) # Initialize only a subset of variables:\n",
    "# sess.run(W.initializer) # Initialize a single variable\n"
   ]
  },
  {
   "cell_type": "code",
   "execution_count": null,
   "metadata": {},
   "outputs": [],
   "source": [
    "## Placeholders:\n",
    "## used when we want to load the values later\n",
    "## tf.placeholder(dtype, shape=None, name=None)\n",
    "\n",
    "## create a placeholder for a vector of 3 elements, type tf.float32\n",
    "# a = tf.placeholder(tf.float32, shape=[3])\n",
    "# b = tf.constant([5, 5, 5], tf.float32)\n",
    "\n",
    "## use the placeholder as you would a constant or a variable\n",
    "# c = a + b # short for tf.add(a, b)\n",
    "# with tf.Session() as sess:\n",
    "# print(sess.run(c))\n",
    "\n",
    "\n",
    "## supplement the value of a using feed_dict dictionary\n",
    "# print(sess.run(c, feed_dict={a: [1, 2, 3]})) # the tensor a is the key, not the string ‘a’"
   ]
  },
  {
   "cell_type": "code",
   "execution_count": null,
   "metadata": {},
   "outputs": [],
   "source": [
    "## supplement the value of a using feed_dict dictionary\n",
    "# with tf.Session() as sess:\n",
    "# print(sess.run(c, feed_dict={a: [1, 2, 3]})) # the tensor a is the key, not the string ‘a’\n",
    "## or\n",
    "# print(sess.run(c, {a: [1, 2, 3]}))"
   ]
  },
  {
   "cell_type": "code",
   "execution_count": null,
   "metadata": {},
   "outputs": [],
   "source": []
  },
  {
   "cell_type": "code",
   "execution_count": 3,
   "metadata": {},
   "outputs": [],
   "source": [
    "## 1.2 Create input data using NumPy. y = x * 0.1 + 0.3 + noise\n",
    "# x_data = np.random.rand(100).astype(np.float32)\n",
    "# noise = np.random.normal(scale=0.01, size=len(x_data))\n",
    "# y_data = x_data * 0.1 + 0.3 + noise\n",
    "\n",
    "## Uncomment the following line to plot our input data.\n",
    "# pylab.plot(x_data, y_data, '.')"
   ]
  },
  {
   "cell_type": "code",
   "execution_count": 4,
   "metadata": {},
   "outputs": [
    {
     "name": "stdout",
     "output_type": "stream",
     "text": [
      "weights:0\n"
     ]
    }
   ],
   "source": [
    "## 1.3 Buld inference graph.\n",
    "## Create Variables W and b that compute y_data = W * x_data + b\n",
    "# W = tf.Variable(tf.random_uniform([1], 0.0, 1.0), name=\"weights\")\n",
    "# b = tf.Variable(tf.zeros([1]), name=\"biases\")\n",
    "# y = W * x_data + b\n",
    "\n",
    "## Uncomment the following lines to see W and b are.\n",
    "# print(W.name)\n",
    "# print(b.name)"
   ]
  },
  {
   "cell_type": "code",
   "execution_count": 5,
   "metadata": {
    "scrolled": true
   },
   "outputs": [
    {
     "name": "stdout",
     "output_type": "stream",
     "text": [
      "('loss:', <tf.Tensor 'Mean:0' shape=() dtype=float32>)\n",
      "('optimizer:', <tensorflow.python.training.gradient_descent.GradientDescentOptimizer object at 0x1162617d0>)\n",
      "('train:', <tensorflow.python.framework.ops.Operation object at 0x116524510>)\n",
      "name: \"init\"\n",
      "op: \"NoOp\"\n",
      "input: \"^weights/Assign\"\n",
      "input: \"^biases/Assign\"\n",
      "\n"
     ]
    }
   ],
   "source": [
    "## 1.4 Build training graph.\n",
    "# loss = tf.reduce_mean(tf.square(y - y_data))  # Create an operation that calculates loss.\n",
    "# optimizer = tf.train.GradientDescentOptimizer(0.5)  # Create an optimizer.\n",
    "# train = optimizer.minimize(loss)  # Create an operation that minimizes loss.\n",
    "# init = tf.initialize_all_variables()  # Create an operation initializes all the variables.\n",
    "\n",
    "## Uncomment the following 3 lines to see what 'loss', 'optimizer' and 'train' are.\n",
    "# print(\"loss:\", loss)\n",
    "# print(\"optimizer:\", optimizer)\n",
    "# print(\"train:\", train)\n",
    "# print(init)"
   ]
  },
  {
   "cell_type": "code",
   "execution_count": 1,
   "metadata": {},
   "outputs": [],
   "source": [
    "## 1.5 Uncomment the following line to see what we have built.\n",
    "#print(tf.get_default_graph().as_graph_def())"
   ]
  },
  {
   "cell_type": "code",
   "execution_count": 5,
   "metadata": {},
   "outputs": [],
   "source": [
    "## 1.6 Create a session and launch the graph.\n",
    "#sess = tf.Session()\n",
    "#sess.run(init)\n",
    "#y_initial_values = sess.run(y)  # Save initial values for plotting later.\n",
    "\n",
    "## Uncomment the following line to see the initial W and b values.\n",
    "#print(sess.run([W, b]))"
   ]
  },
  {
   "cell_type": "code",
   "execution_count": 2,
   "metadata": {},
   "outputs": [],
   "source": [
    "## 1.7 Perform training.\n",
    "#for step in range(201):\n",
    "#     sess.run(train)\n",
    "    ##Uncomment the following two lines to watch training happen real time.\n",
    "#     if step % 20 == 0:\n",
    "#         print(step, sess.run([W, b]))\n",
    "\n",
    "# print(sess.run([W, b]))"
   ]
  },
  {
   "cell_type": "code",
   "execution_count": 4,
   "metadata": {},
   "outputs": [],
   "source": [
    "## 1.8 Uncomment the following lines to compare.\n",
    "# pylab.plot(x_data, y_data, '.', label=\"target_values\")\n",
    "# pylab.plot(x_data, y_initial_values, \".\", label=\"initial_values\")\n",
    "# pylab.plot(x_data, sess.run(y), \".\", label=\"trained_values\")\n",
    "# pylab.legend()\n",
    "# pylab.ylim(0, 1.0)"
   ]
  },
  {
   "cell_type": "markdown",
   "metadata": {},
   "source": [
    "<p>Back to [0_tf_hello_world.ipynb](0_tf_hello_world.ipynb).</p>\n",
    "<p>Next to [2_mnist.ipynb](2_mnist.ipynb).</p>"
   ]
  }
 ],
 "metadata": {
  "kernelspec": {
   "display_name": "Python 2",
   "language": "python",
   "name": "python2"
  },
  "language_info": {
   "codemirror_mode": {
    "name": "ipython",
    "version": 3
   },
   "file_extension": ".py",
   "mimetype": "text/x-python",
   "name": "python",
   "nbconvert_exporter": "python",
   "pygments_lexer": "ipython3",
   "version": "3.5.4"
  }
 },
 "nbformat": 4,
 "nbformat_minor": 1
}
